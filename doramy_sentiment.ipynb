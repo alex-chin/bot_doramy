{
 "cells": [
  {
   "cell_type": "code",
   "execution_count": 2,
   "outputs": [],
   "source": [
    "import torch\n",
    "from transformers import AutoTokenizer, TFAutoModel, TFAutoModelForSequenceClassification, AutoModelForCausalLM, TFAutoModelForCausalLM"
   ],
   "metadata": {
    "collapsed": false,
    "pycharm": {
     "name": "#%%\n"
    }
   }
  },
  {
   "cell_type": "code",
   "execution_count": 3,
   "metadata": {
    "collapsed": true,
    "pycharm": {
     "name": "#%%model_gpt1 =  'sberbank-ai/rugpt3small_based_on_gpt2'\n"
    }
   },
   "outputs": [
    {
     "data": {
      "text/plain": "Downloading:   0%|          | 0.00/608 [00:00<?, ?B/s]",
      "application/vnd.jupyter.widget-view+json": {
       "version_major": 2,
       "version_minor": 0,
       "model_id": "838243bdd4e944b490f939cbb52a3ea2"
      }
     },
     "metadata": {},
     "output_type": "display_data"
    },
    {
     "data": {
      "text/plain": "Downloading:   0%|          | 0.00/1.71M [00:00<?, ?B/s]",
      "application/vnd.jupyter.widget-view+json": {
       "version_major": 2,
       "version_minor": 0,
       "model_id": "10b1d5ae224a4e5190e9526afd2d644d"
      }
     },
     "metadata": {},
     "output_type": "display_data"
    },
    {
     "data": {
      "text/plain": "Downloading:   0%|          | 0.00/1.27M [00:00<?, ?B/s]",
      "application/vnd.jupyter.widget-view+json": {
       "version_major": 2,
       "version_minor": 0,
       "model_id": "95d7fe4c3bce4a55b08b9c79fa792607"
      }
     },
     "metadata": {},
     "output_type": "display_data"
    },
    {
     "name": "stderr",
     "output_type": "stream",
     "text": [
      "Special tokens have been added in the vocabulary, make sure the associated word embeddings are fine-tuned or trained.\n"
     ]
    },
    {
     "data": {
      "text/plain": "Downloading:   0%|          | 0.00/551M [00:00<?, ?B/s]",
      "application/vnd.jupyter.widget-view+json": {
       "version_major": 2,
       "version_minor": 0,
       "model_id": "e43444a5d17449b7a580c501b0266584"
      }
     },
     "metadata": {},
     "output_type": "display_data"
    }
   ],
   "source": [
    "model_gpt1 =  'sberbank-ai/rugpt3small_based_on_gpt2'\n",
    "model_gpt2 = 'cointegrated/rubert-tiny'\n",
    "device = torch.device(\"cpu\")\n",
    "tokenizer_dialog = AutoTokenizer.from_pretrained(model_gpt1)\n",
    "model_dialog = AutoModelForCausalLM.from_pretrained(model_gpt1).to(device)"
   ]
  },
  {
   "cell_type": "code",
   "execution_count": 4,
   "outputs": [],
   "source": [
    "import math\n",
    "import string"
   ],
   "metadata": {
    "collapsed": false,
    "pycharm": {
     "name": "#%%\n"
    }
   }
  },
  {
   "cell_type": "code",
   "execution_count": 21,
   "outputs": [],
   "source": [
    "def calculate_perplexity(sentence, model, tokenizer):\n",
    "    sentence = sentence.translate(str.maketrans('', '', string.punctuation))\n",
    "    range_max = 400\n",
    "    # print(sentence)\n",
    "    sentence_positive = 'довольна: ' + sentence[:range_max]\n",
    "    sentence_negative = 'недовольна: ' + sentence[:range_max]\n",
    "    #sentence_positive = 'хороший:'+ sentence[:range_max]\n",
    "    #sentence_negative = 'плохой:'+ sentence[:range_max]\n",
    "    # sentence_positive = 'интересный:'+ sentence[:range_max]\n",
    "    # sentence_negative = 'скучный:'+ sentence[:range_max]\n",
    "    list_sent = [sentence_positive, sentence_negative]\n",
    "    ppl_values = []\n",
    "    flag_non_calc = False\n",
    "\n",
    "    for sent in list_sent:\n",
    "        encodings = tokenizer(sent, return_tensors='pt')\n",
    "        input_ids = encodings.input_ids.to(device)\n",
    "        with torch.no_grad():\n",
    "            outputs = model(input_ids=input_ids, labels=input_ids)\n",
    "        loss = outputs.loss\n",
    "        multiple_loss = loss.item() * input_ids.size(1)\n",
    "        if multiple_loss > 500:\n",
    "            flag_non_calc = True\n",
    "            break\n",
    "        ppl = math.exp(multiple_loss)\n",
    "        ppl_values.append(ppl)\n",
    "\n",
    "    if flag_non_calc:\n",
    "        result = 'не определено'\n",
    "    else:\n",
    "        if ppl_values[0] > ppl_values[1]:\n",
    "            result = 'отрицательный'\n",
    "        elif ppl_values[0] < ppl_values[1]:\n",
    "            result = 'положительный'\n",
    "    # print(result)\n",
    "    return result"
   ],
   "metadata": {
    "collapsed": false,
    "pycharm": {
     "name": "#%%\n"
    }
   }
  },
  {
   "cell_type": "code",
   "execution_count": 6,
   "outputs": [],
   "source": [
    "import pandas as pd"
   ],
   "metadata": {
    "collapsed": false,
    "pycharm": {
     "name": "#%%\n"
    }
   }
  },
  {
   "cell_type": "code",
   "execution_count": 7,
   "outputs": [],
   "source": [
    "df = pd.read_pickle('doramy_comments_plain.pkl')"
   ],
   "metadata": {
    "collapsed": false,
    "pycharm": {
     "name": "#%%\n"
    }
   }
  },
  {
   "cell_type": "code",
   "execution_count": 12,
   "outputs": [
    {
     "data": {
      "text/plain": "       id    author            time  \\\n0   34127     Leodo  16 ноября 2022   \n1   34127   Nilufar  16 ноября 2022   \n2   34127  Dariia13  16 ноября 2022   \n3   34127    Маркус  16 ноября 2022   \n4   34127  Лиза Мин  16 ноября 2022   \n..    ...       ...             ...   \n19  34086      Moon  12 ноября 2022   \n20  34086     ответ  12 ноября 2022   \n21  34086    Аяулым  12 ноября 2022   \n22  34086     ретти  12 ноября 2022   \n23  34086     Айнаи  12 ноября 2022   \n\n                                              comment  \n0   \\nОчень интригующее начало, а судя по персонаж...  \n1                         \\nОчень интересная дорома\\n  \n2   \\nЯ все жду «Децибел» с Ким Ре Воном и Ли Чон ...  \n3   \\nчто то хромать стали выходы серий дорам с оз...  \n4   \\nНачало очень интригует! Ещо одна дорама в ко...  \n..                                                ...  \n19                \\nВаввв!обов’язково до перегляду💞\\n  \n20                        \\nглавный герой псих, вау\\n  \n21                                 \\nКласный дорама\\n  \n22  \\nХотя и вышло всего 2 серии, меня эта дорама ...  \n23                                       \\nКлассное\\n  \n\n[1000 rows x 4 columns]",
      "text/html": "<div>\n<style scoped>\n    .dataframe tbody tr th:only-of-type {\n        vertical-align: middle;\n    }\n\n    .dataframe tbody tr th {\n        vertical-align: top;\n    }\n\n    .dataframe thead th {\n        text-align: right;\n    }\n</style>\n<table border=\"1\" class=\"dataframe\">\n  <thead>\n    <tr style=\"text-align: right;\">\n      <th></th>\n      <th>id</th>\n      <th>author</th>\n      <th>time</th>\n      <th>comment</th>\n    </tr>\n  </thead>\n  <tbody>\n    <tr>\n      <th>0</th>\n      <td>34127</td>\n      <td>Leodo</td>\n      <td>16 ноября 2022</td>\n      <td>\\nОчень интригующее начало, а судя по персонаж...</td>\n    </tr>\n    <tr>\n      <th>1</th>\n      <td>34127</td>\n      <td>Nilufar</td>\n      <td>16 ноября 2022</td>\n      <td>\\nОчень интересная дорома\\n</td>\n    </tr>\n    <tr>\n      <th>2</th>\n      <td>34127</td>\n      <td>Dariia13</td>\n      <td>16 ноября 2022</td>\n      <td>\\nЯ все жду «Децибел» с Ким Ре Воном и Ли Чон ...</td>\n    </tr>\n    <tr>\n      <th>3</th>\n      <td>34127</td>\n      <td>Маркус</td>\n      <td>16 ноября 2022</td>\n      <td>\\nчто то хромать стали выходы серий дорам с оз...</td>\n    </tr>\n    <tr>\n      <th>4</th>\n      <td>34127</td>\n      <td>Лиза Мин</td>\n      <td>16 ноября 2022</td>\n      <td>\\nНачало очень интригует! Ещо одна дорама в ко...</td>\n    </tr>\n    <tr>\n      <th>...</th>\n      <td>...</td>\n      <td>...</td>\n      <td>...</td>\n      <td>...</td>\n    </tr>\n    <tr>\n      <th>19</th>\n      <td>34086</td>\n      <td>Moon</td>\n      <td>12 ноября 2022</td>\n      <td>\\nВаввв!обов’язково до перегляду💞\\n</td>\n    </tr>\n    <tr>\n      <th>20</th>\n      <td>34086</td>\n      <td>ответ</td>\n      <td>12 ноября 2022</td>\n      <td>\\nглавный герой псих, вау\\n</td>\n    </tr>\n    <tr>\n      <th>21</th>\n      <td>34086</td>\n      <td>Аяулым</td>\n      <td>12 ноября 2022</td>\n      <td>\\nКласный дорама\\n</td>\n    </tr>\n    <tr>\n      <th>22</th>\n      <td>34086</td>\n      <td>ретти</td>\n      <td>12 ноября 2022</td>\n      <td>\\nХотя и вышло всего 2 серии, меня эта дорама ...</td>\n    </tr>\n    <tr>\n      <th>23</th>\n      <td>34086</td>\n      <td>Айнаи</td>\n      <td>12 ноября 2022</td>\n      <td>\\nКлассное\\n</td>\n    </tr>\n  </tbody>\n</table>\n<p>1000 rows × 4 columns</p>\n</div>"
     },
     "execution_count": 12,
     "metadata": {},
     "output_type": "execute_result"
    }
   ],
   "source": [
    "df.head(1000)"
   ],
   "metadata": {
    "collapsed": false,
    "pycharm": {
     "name": "#%%\n"
    }
   }
  },
  {
   "cell_type": "code",
   "execution_count": 10,
   "outputs": [
    {
     "data": {
      "text/plain": "0     \\nОчень интригующее начало, а судя по персонаж...\n1                           \\nОчень интересная дорома\\n\n2     \\nЯ все жду «Децибел» с Ким Ре Воном и Ли Чон ...\n3     \\nчто то хромать стали выходы серий дорам с оз...\n4     \\nНачало очень интригует! Ещо одна дорама в ко...\n5                                   \\nИнтересненько 👍\\n\n6     \\nОчень интересная дорама жду продолжения.\\nСп...\n7     \\nВсё очень сочно и классно звучит!!\\nНапомина...\n8                       \\nЭто лучшее что я смотрела 🔥\\n\n9     \\nДовольно интересный сюжет. Как раз по эти жа...\n10                  \\nЧто ж, выглядит многообещающе))\\n\n11                        \\nнеплохо, довольно неплохо\\n\n12    \\nДорама очень интересная и отличная. Эта дора...\n13                    \\nИнтересный дорама про полицию\\n\n14                 \\nОчень крутая дорама всем советую\\n\n15                                  \\nПока что смотрю\\n\n16            \\nДорама бомба,честно говоря!!!!!!!!!!!\\n\n17                              \\nОчень понравилось❤️\\n\nName: comment, dtype: object"
     },
     "execution_count": 10,
     "metadata": {},
     "output_type": "execute_result"
    }
   ],
   "source": [
    "df.loc[df.id == '34127','comment']"
   ],
   "metadata": {
    "collapsed": false,
    "pycharm": {
     "name": "#%%\n"
    }
   }
  },
  {
   "cell_type": "code",
   "execution_count": 16,
   "outputs": [
    {
     "data": {
      "text/plain": "0     положительный\n1     положительный\n2     положительный\n3     положительный\n4     положительный\n5     положительный\n6     положительный\n7     положительный\n8     положительный\n9     положительный\n10    положительный\n11    положительный\n12    положительный\n13    положительный\n14    положительный\n15    положительный\n16    положительный\n17    положительный\nName: comment, dtype: object"
     },
     "execution_count": 16,
     "metadata": {},
     "output_type": "execute_result"
    }
   ],
   "source": [
    "df.loc[df.id == '34127','comment'].apply(lambda x: calculate_perplexity(x, model_dialog, tokenizer_dialog))"
   ],
   "metadata": {
    "collapsed": false,
    "pycharm": {
     "name": "#%%\n"
    }
   }
  },
  {
   "cell_type": "code",
   "execution_count": 26,
   "outputs": [
    {
     "data": {
      "text/plain": "'отрицательный'"
     },
     "execution_count": 26,
     "metadata": {},
     "output_type": "execute_result"
    }
   ],
   "source": [
    "x = ' мне не понравилось,скучновато\\n'\n",
    "# x = 'отвратительный дизайн'\n",
    "calculate_perplexity(x, model_dialog, tokenizer_dialog)"
   ],
   "metadata": {
    "collapsed": false,
    "pycharm": {
     "name": "#%%\n"
    }
   }
  },
  {
   "cell_type": "code",
   "execution_count": null,
   "outputs": [],
   "source": [],
   "metadata": {
    "collapsed": false,
    "pycharm": {
     "name": "#%%\n"
    }
   }
  }
 ],
 "metadata": {
  "kernelspec": {
   "display_name": "Python 3",
   "language": "python",
   "name": "python3"
  },
  "language_info": {
   "codemirror_mode": {
    "name": "ipython",
    "version": 2
   },
   "file_extension": ".py",
   "mimetype": "text/x-python",
   "name": "python",
   "nbconvert_exporter": "python",
   "pygments_lexer": "ipython2",
   "version": "2.7.6"
  }
 },
 "nbformat": 4,
 "nbformat_minor": 0
}