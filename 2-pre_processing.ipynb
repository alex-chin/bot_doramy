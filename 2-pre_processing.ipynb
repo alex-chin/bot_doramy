{
 "cells": [
  {
   "cell_type": "markdown",
   "source": [
    "1. Сбор уникальных значений параметров\n",
    "2. Создание набора параметров\n",
    "3. Соединение наборов"
   ],
   "metadata": {
    "collapsed": false
   }
  },
  {
   "cell_type": "code",
   "execution_count": 54,
   "outputs": [],
   "source": [
    "import pandas as pd"
   ],
   "metadata": {
    "collapsed": false,
    "pycharm": {
     "name": "#%%\n"
    }
   }
  },
  {
   "cell_type": "code",
   "execution_count": 55,
   "metadata": {
    "collapsed": true
   },
   "outputs": [
    {
     "name": "stdout",
     "output_type": "stream",
     "text": [
      "<class 'pandas.core.frame.DataFrame'>\n",
      "Index: 4789 entries, 34127 to 25\n",
      "Data columns (total 5 columns):\n",
      " #   Column  Non-Null Count  Dtype \n",
      "---  ------  --------------  ----- \n",
      " 0   url     4789 non-null   object\n",
      " 1   name    4789 non-null   object\n",
      " 2   image   4789 non-null   object\n",
      " 3   notes   4789 non-null   object\n",
      " 4   params  4789 non-null   object\n",
      "dtypes: object(5)\n",
      "memory usage: 224.5+ KB\n"
     ]
    }
   ],
   "source": [
    "df_doramy = pd.read_pickle('doramy_orig.pkl')\n",
    "df_doramy.info()"
   ]
  },
  {
   "cell_type": "code",
   "execution_count": 56,
   "outputs": [
    {
     "data": {
      "text/plain": "id\n34127    {'Просмотр:': '1 час 5 мин', 'Сериал:': '12 се...\n11136    {'Просмотр:': '35 мин.', 'Сериал:': '36 серий'...\n34047    {'Просмотр:': '10 мин', 'Сериал:': '22 серии',...\n33308    {'Просмотр:': '42 мин', 'Сериал:': '36 серий',...\n33385    {'Просмотр:': '1 час 27 мин', 'Сериал:': '10 с...\nName: params, dtype: object"
     },
     "execution_count": 56,
     "metadata": {},
     "output_type": "execute_result"
    }
   ],
   "source": [
    "df_doramy.params.head()"
   ],
   "metadata": {
    "collapsed": false,
    "pycharm": {
     "name": "#%%\n"
    }
   }
  },
  {
   "cell_type": "markdown",
   "source": [
    "# Преобразование всех словарей параметров в список"
   ],
   "metadata": {
    "collapsed": false
   }
  },
  {
   "cell_type": "code",
   "execution_count": 57,
   "outputs": [
    {
     "data": {
      "text/plain": "[{'Просмотр:': '1 час 5 мин',\n  'Сериал:': '12 серий',\n  'Статус:': 'Выходит',\n  'Добавлена:': '1 серия - озвучка,2 серия - субтитры',\n  'Год:': '2022',\n  'Страна:': 'Южная Корея',\n  'Жанр:': 'Детектив, Драма',\n  'Перевод:': 'Русская озвучка, Русские субтитры',\n  'Озвучка:': 'SoftBox',\n  'В ролях:': 'Гон Сын Ён,  Ким Рэ Вон,  Сон Хо Джун,  Чжи У,  Чон Сан Хун'},\n {'Просмотр:': '35 мин.',\n  'Сериал:': '36 серий',\n  'Статус:': 'Выходит',\n  'Добавлена:': '9 серия - озвучка,36 серия - субтитры',\n  'Год:': '2018',\n  'Страна:': 'Китай',\n  'Жанр:': 'Драма, Исторический, Мелодрама',\n  'Перевод:': 'Русская озвучка, Русские субтитры',\n  'Озвучка:': 'DubLik-TV',\n  'В ролях:': 'Фэн Ли Цзюнь,  Хэ Лань Доу'},\n {'Просмотр:': '10 мин',\n  'Сериал:': '22 серии',\n  'Статус:': 'Выходит',\n  'Добавлена:': '13 серия - субтитры',\n  'Год:': '2022',\n  'Страна:': 'Китай',\n  'Жанр:': 'Комедия, Мелодрама, Музыка',\n  'Перевод:': 'Русские субтитры'},\n {'Просмотр:': '42 мин',\n  'Сериал:': '36 серий',\n  'Статус:': 'Выходит',\n  'Добавлена:': '20 серия - озвучка,36 серия - субтитры',\n  'Автосабы:': '36 серия',\n  'Год:': '2022',\n  'Страна:': 'Китай',\n  'Жанр:': 'Драма, Мелодрама, Приключения, Фэнтези',\n  'Перевод:': 'Русская озвучка, Русские субтитры',\n  'Озвучка:': 'DubLik-TV',\n  'В ролях:': 'Жэнь Цзя Лунь,  Ли Цинь,  Ся Чжи Гуан'},\n {'Просмотр:': '1 час 27 мин',\n  'Сериал:': '10 серий',\n  'Статус:': 'Выходит',\n  'Добавлена:': '10 серия - субтитры',\n  'Год:': '2022',\n  'Страна:': 'Таиланд',\n  'Жанр:': 'Драма, Комедия, Мелодрама',\n  'Перевод:': 'Русские субтитры',\n  'В ролях:': 'Алек Тирадет Метаварают,  Анна Тонгпрасом,  Кен Тирадет Вонпуапан,  Минт Чалида Витчитвонтон,  Миу Нитта Тжираянъюн'}]"
     },
     "execution_count": 57,
     "metadata": {},
     "output_type": "execute_result"
    }
   ],
   "source": [
    "params = df_doramy.params.to_list()\n",
    "params[:5]"
   ],
   "metadata": {
    "collapsed": false,
    "pycharm": {
     "name": "#%%\n"
    }
   }
  },
  {
   "cell_type": "markdown",
   "source": [
    "# Сбор уникальных значений"
   ],
   "metadata": {
    "collapsed": false
   }
  },
  {
   "cell_type": "code",
   "execution_count": 58,
   "outputs": [],
   "source": [
    "s = set()\n",
    "for param in params:\n",
    "    s = s.union(set(param))"
   ],
   "metadata": {
    "collapsed": false,
    "pycharm": {
     "name": "#%%\n"
    }
   }
  },
  {
   "cell_type": "code",
   "execution_count": 59,
   "outputs": [
    {
     "data": {
      "text/plain": "{'Автосабы:',\n 'В ролях:',\n 'Возраст:',\n 'Год:',\n 'Добавлена:',\n 'Жанр:',\n 'Озвучка:',\n 'Перевод:',\n 'Просмотр:',\n 'Сериал:',\n 'Статус:',\n 'Страна:'}"
     },
     "execution_count": 59,
     "metadata": {},
     "output_type": "execute_result"
    }
   ],
   "source": [
    "s"
   ],
   "metadata": {
    "collapsed": false,
    "pycharm": {
     "name": "#%%\n"
    }
   }
  },
  {
   "cell_type": "markdown",
   "source": [
    "# Обработка набора, создание набора параметров"
   ],
   "metadata": {
    "collapsed": false
   }
  },
  {
   "cell_type": "code",
   "execution_count": 61,
   "outputs": [],
   "source": [
    "df_doramy_extend = df_doramy.apply(lambda row: pd.Series(row['params'], index=s), axis=1)"
   ],
   "metadata": {
    "collapsed": false,
    "pycharm": {
     "name": "#%%\n"
    }
   }
  },
  {
   "cell_type": "code",
   "execution_count": 63,
   "outputs": [
    {
     "data": {
      "text/plain": "                                Перевод:  Год:  Статус:   Озвучка: Возраст:  \\\nid                                                                            \n34127  Русская озвучка, Русские субтитры  2022  Выходит    SoftBox      NaN   \n11136  Русская озвучка, Русские субтитры  2018  Выходит  DubLik-TV      NaN   \n34047                   Русские субтитры  2022  Выходит        NaN      NaN   \n33308  Русская озвучка, Русские субтитры  2022  Выходит  DubLik-TV      NaN   \n33385                   Русские субтитры  2022  Выходит        NaN      NaN   \n\n                                        Жанр: Автосабы:      Страна:  \\\nid                                                                     \n34127                         Детектив, Драма       NaN  Южная Корея   \n11136          Драма, Исторический, Мелодрама       NaN        Китай   \n34047              Комедия, Мелодрама, Музыка       NaN        Китай   \n33308  Драма, Мелодрама, Приключения, Фэнтези  36 серия        Китай   \n33385               Драма, Комедия, Мелодрама       NaN      Таиланд   \n\n        Сериал:                              Добавлена:     Просмотр:  \\\nid                                                                      \n34127  12 серий    1 серия - озвучка,2 серия - субтитры   1 час 5 мин   \n11136  36 серий   9 серия - озвучка,36 серия - субтитры       35 мин.   \n34047  22 серии                     13 серия - субтитры        10 мин   \n33308  36 серий  20 серия - озвучка,36 серия - субтитры        42 мин   \n33385  10 серий                     10 серия - субтитры  1 час 27 мин   \n\n                                                В ролях:  \nid                                                        \n34127  Гон Сын Ён,  Ким Рэ Вон,  Сон Хо Джун,  Чжи У,...  \n11136                         Фэн Ли Цзюнь,  Хэ Лань Доу  \n34047                                                NaN  \n33308              Жэнь Цзя Лунь,  Ли Цинь,  Ся Чжи Гуан  \n33385  Алек Тирадет Метаварают,  Анна Тонгпрасом,  Ке...  ",
      "text/html": "<div>\n<style scoped>\n    .dataframe tbody tr th:only-of-type {\n        vertical-align: middle;\n    }\n\n    .dataframe tbody tr th {\n        vertical-align: top;\n    }\n\n    .dataframe thead th {\n        text-align: right;\n    }\n</style>\n<table border=\"1\" class=\"dataframe\">\n  <thead>\n    <tr style=\"text-align: right;\">\n      <th></th>\n      <th>Перевод:</th>\n      <th>Год:</th>\n      <th>Статус:</th>\n      <th>Озвучка:</th>\n      <th>Возраст:</th>\n      <th>Жанр:</th>\n      <th>Автосабы:</th>\n      <th>Страна:</th>\n      <th>Сериал:</th>\n      <th>Добавлена:</th>\n      <th>Просмотр:</th>\n      <th>В ролях:</th>\n    </tr>\n    <tr>\n      <th>id</th>\n      <th></th>\n      <th></th>\n      <th></th>\n      <th></th>\n      <th></th>\n      <th></th>\n      <th></th>\n      <th></th>\n      <th></th>\n      <th></th>\n      <th></th>\n      <th></th>\n    </tr>\n  </thead>\n  <tbody>\n    <tr>\n      <th>34127</th>\n      <td>Русская озвучка, Русские субтитры</td>\n      <td>2022</td>\n      <td>Выходит</td>\n      <td>SoftBox</td>\n      <td>NaN</td>\n      <td>Детектив, Драма</td>\n      <td>NaN</td>\n      <td>Южная Корея</td>\n      <td>12 серий</td>\n      <td>1 серия - озвучка,2 серия - субтитры</td>\n      <td>1 час 5 мин</td>\n      <td>Гон Сын Ён,  Ким Рэ Вон,  Сон Хо Джун,  Чжи У,...</td>\n    </tr>\n    <tr>\n      <th>11136</th>\n      <td>Русская озвучка, Русские субтитры</td>\n      <td>2018</td>\n      <td>Выходит</td>\n      <td>DubLik-TV</td>\n      <td>NaN</td>\n      <td>Драма, Исторический, Мелодрама</td>\n      <td>NaN</td>\n      <td>Китай</td>\n      <td>36 серий</td>\n      <td>9 серия - озвучка,36 серия - субтитры</td>\n      <td>35 мин.</td>\n      <td>Фэн Ли Цзюнь,  Хэ Лань Доу</td>\n    </tr>\n    <tr>\n      <th>34047</th>\n      <td>Русские субтитры</td>\n      <td>2022</td>\n      <td>Выходит</td>\n      <td>NaN</td>\n      <td>NaN</td>\n      <td>Комедия, Мелодрама, Музыка</td>\n      <td>NaN</td>\n      <td>Китай</td>\n      <td>22 серии</td>\n      <td>13 серия - субтитры</td>\n      <td>10 мин</td>\n      <td>NaN</td>\n    </tr>\n    <tr>\n      <th>33308</th>\n      <td>Русская озвучка, Русские субтитры</td>\n      <td>2022</td>\n      <td>Выходит</td>\n      <td>DubLik-TV</td>\n      <td>NaN</td>\n      <td>Драма, Мелодрама, Приключения, Фэнтези</td>\n      <td>36 серия</td>\n      <td>Китай</td>\n      <td>36 серий</td>\n      <td>20 серия - озвучка,36 серия - субтитры</td>\n      <td>42 мин</td>\n      <td>Жэнь Цзя Лунь,  Ли Цинь,  Ся Чжи Гуан</td>\n    </tr>\n    <tr>\n      <th>33385</th>\n      <td>Русские субтитры</td>\n      <td>2022</td>\n      <td>Выходит</td>\n      <td>NaN</td>\n      <td>NaN</td>\n      <td>Драма, Комедия, Мелодрама</td>\n      <td>NaN</td>\n      <td>Таиланд</td>\n      <td>10 серий</td>\n      <td>10 серия - субтитры</td>\n      <td>1 час 27 мин</td>\n      <td>Алек Тирадет Метаварают,  Анна Тонгпрасом,  Ке...</td>\n    </tr>\n  </tbody>\n</table>\n</div>"
     },
     "execution_count": 63,
     "metadata": {},
     "output_type": "execute_result"
    }
   ],
   "source": [
    "df_doramy_extend.head()"
   ],
   "metadata": {
    "collapsed": false,
    "pycharm": {
     "name": "#%%\n"
    }
   }
  },
  {
   "cell_type": "markdown",
   "source": [
    "# Соединение наборов"
   ],
   "metadata": {
    "collapsed": false
   }
  },
  {
   "cell_type": "code",
   "execution_count": 64,
   "outputs": [],
   "source": [
    "df_doramy=pd.concat([df_doramy,df_doramy_extend], axis=1, ignore_index=True)"
   ],
   "metadata": {
    "collapsed": false,
    "pycharm": {
     "name": "#%%\n"
    }
   }
  },
  {
   "cell_type": "code",
   "execution_count": 65,
   "outputs": [
    {
     "data": {
      "text/plain": "                                                      0   \\\nid                                                         \n34127  https://doramy.club/34127-policejskij-uchastok...   \n11136  https://doramy.club/11136-pogrebyonnyj-gorod-s...   \n34047  https://doramy.club/34047-lyubov-zdes-zapreshh...   \n33308  https://doramy.club/33308-tysyacha-let-dlya-te...   \n33385    https://doramy.club/33385-superzvezda-2550.html   \n\n                                                      1   \\\nid                                                         \n34127  Полицейский участок рядом с пожарной частью до...   \n11136  Погребённый город: Сокрыть все огни дорама (2018)   \n34047               Любовь здесь запрещена дорама (2022)   \n33308                  Тысяча лет для тебя дорама (2022)   \n33385                     Суперзвезда 2550 дорама (2022)   \n\n                                                      2   \\\nid                                                         \n34127  https://doramy.club/wp-content/uploads/2022/11...   \n11136  https://doramy.club/wp-content/uploads/2019/03...   \n34047  https://doramy.club/wp-content/uploads/2022/11...   \n33308  https://doramy.club/wp-content/uploads/2022/09...   \n33385  https://doramy.club/wp-content/uploads/2022/09...   \n\n                                                      3   \\\nid                                                         \n34127  \\nРядом с пожарной станцией расположен полицей...   \n11136  \\nГлавная героиня дорамы «Погребённый город: С...   \n34047  \\nДевушка по имени Ши Чэн, школьница увлеченна...   \n33308  \\nБогиня Юнь Си и и повелитель духов Лу Янь бы...   \n33385  \\nКогда на телевидении стартовал новый и ожида...   \n\n                                                      4   \\\nid                                                         \n34127  {'Просмотр:': '1 час 5 мин', 'Сериал:': '12 се...   \n11136  {'Просмотр:': '35 мин.', 'Сериал:': '36 серий'...   \n34047  {'Просмотр:': '10 мин', 'Сериал:': '22 серии',...   \n33308  {'Просмотр:': '42 мин', 'Сериал:': '36 серий',...   \n33385  {'Просмотр:': '1 час 27 мин', 'Сериал:': '10 с...   \n\n                                      5     6        7          8    9   \\\nid                                                                        \n34127  Русская озвучка, Русские субтитры  2022  Выходит    SoftBox  NaN   \n11136  Русская озвучка, Русские субтитры  2018  Выходит  DubLik-TV  NaN   \n34047                   Русские субтитры  2022  Выходит        NaN  NaN   \n33308  Русская озвучка, Русские субтитры  2022  Выходит  DubLik-TV  NaN   \n33385                   Русские субтитры  2022  Выходит        NaN  NaN   \n\n                                           10        11           12  \\\nid                                                                     \n34127                         Детектив, Драма       NaN  Южная Корея   \n11136          Драма, Исторический, Мелодрама       NaN        Китай   \n34047              Комедия, Мелодрама, Музыка       NaN        Китай   \n33308  Драма, Мелодрама, Приключения, Фэнтези  36 серия        Китай   \n33385               Драма, Комедия, Мелодрама       NaN      Таиланд   \n\n             13                                      14            15  \\\nid                                                                      \n34127  12 серий    1 серия - озвучка,2 серия - субтитры   1 час 5 мин   \n11136  36 серий   9 серия - озвучка,36 серия - субтитры       35 мин.   \n34047  22 серии                     13 серия - субтитры        10 мин   \n33308  36 серий  20 серия - озвучка,36 серия - субтитры        42 мин   \n33385  10 серий                     10 серия - субтитры  1 час 27 мин   \n\n                                                      16  \nid                                                        \n34127  Гон Сын Ён,  Ким Рэ Вон,  Сон Хо Джун,  Чжи У,...  \n11136                         Фэн Ли Цзюнь,  Хэ Лань Доу  \n34047                                                NaN  \n33308              Жэнь Цзя Лунь,  Ли Цинь,  Ся Чжи Гуан  \n33385  Алек Тирадет Метаварают,  Анна Тонгпрасом,  Ке...  ",
      "text/html": "<div>\n<style scoped>\n    .dataframe tbody tr th:only-of-type {\n        vertical-align: middle;\n    }\n\n    .dataframe tbody tr th {\n        vertical-align: top;\n    }\n\n    .dataframe thead th {\n        text-align: right;\n    }\n</style>\n<table border=\"1\" class=\"dataframe\">\n  <thead>\n    <tr style=\"text-align: right;\">\n      <th></th>\n      <th>0</th>\n      <th>1</th>\n      <th>2</th>\n      <th>3</th>\n      <th>4</th>\n      <th>5</th>\n      <th>6</th>\n      <th>7</th>\n      <th>8</th>\n      <th>9</th>\n      <th>10</th>\n      <th>11</th>\n      <th>12</th>\n      <th>13</th>\n      <th>14</th>\n      <th>15</th>\n      <th>16</th>\n    </tr>\n    <tr>\n      <th>id</th>\n      <th></th>\n      <th></th>\n      <th></th>\n      <th></th>\n      <th></th>\n      <th></th>\n      <th></th>\n      <th></th>\n      <th></th>\n      <th></th>\n      <th></th>\n      <th></th>\n      <th></th>\n      <th></th>\n      <th></th>\n      <th></th>\n      <th></th>\n    </tr>\n  </thead>\n  <tbody>\n    <tr>\n      <th>34127</th>\n      <td>https://doramy.club/34127-policejskij-uchastok...</td>\n      <td>Полицейский участок рядом с пожарной частью до...</td>\n      <td>https://doramy.club/wp-content/uploads/2022/11...</td>\n      <td>\\nРядом с пожарной станцией расположен полицей...</td>\n      <td>{'Просмотр:': '1 час 5 мин', 'Сериал:': '12 се...</td>\n      <td>Русская озвучка, Русские субтитры</td>\n      <td>2022</td>\n      <td>Выходит</td>\n      <td>SoftBox</td>\n      <td>NaN</td>\n      <td>Детектив, Драма</td>\n      <td>NaN</td>\n      <td>Южная Корея</td>\n      <td>12 серий</td>\n      <td>1 серия - озвучка,2 серия - субтитры</td>\n      <td>1 час 5 мин</td>\n      <td>Гон Сын Ён,  Ким Рэ Вон,  Сон Хо Джун,  Чжи У,...</td>\n    </tr>\n    <tr>\n      <th>11136</th>\n      <td>https://doramy.club/11136-pogrebyonnyj-gorod-s...</td>\n      <td>Погребённый город: Сокрыть все огни дорама (2018)</td>\n      <td>https://doramy.club/wp-content/uploads/2019/03...</td>\n      <td>\\nГлавная героиня дорамы «Погребённый город: С...</td>\n      <td>{'Просмотр:': '35 мин.', 'Сериал:': '36 серий'...</td>\n      <td>Русская озвучка, Русские субтитры</td>\n      <td>2018</td>\n      <td>Выходит</td>\n      <td>DubLik-TV</td>\n      <td>NaN</td>\n      <td>Драма, Исторический, Мелодрама</td>\n      <td>NaN</td>\n      <td>Китай</td>\n      <td>36 серий</td>\n      <td>9 серия - озвучка,36 серия - субтитры</td>\n      <td>35 мин.</td>\n      <td>Фэн Ли Цзюнь,  Хэ Лань Доу</td>\n    </tr>\n    <tr>\n      <th>34047</th>\n      <td>https://doramy.club/34047-lyubov-zdes-zapreshh...</td>\n      <td>Любовь здесь запрещена дорама (2022)</td>\n      <td>https://doramy.club/wp-content/uploads/2022/11...</td>\n      <td>\\nДевушка по имени Ши Чэн, школьница увлеченна...</td>\n      <td>{'Просмотр:': '10 мин', 'Сериал:': '22 серии',...</td>\n      <td>Русские субтитры</td>\n      <td>2022</td>\n      <td>Выходит</td>\n      <td>NaN</td>\n      <td>NaN</td>\n      <td>Комедия, Мелодрама, Музыка</td>\n      <td>NaN</td>\n      <td>Китай</td>\n      <td>22 серии</td>\n      <td>13 серия - субтитры</td>\n      <td>10 мин</td>\n      <td>NaN</td>\n    </tr>\n    <tr>\n      <th>33308</th>\n      <td>https://doramy.club/33308-tysyacha-let-dlya-te...</td>\n      <td>Тысяча лет для тебя дорама (2022)</td>\n      <td>https://doramy.club/wp-content/uploads/2022/09...</td>\n      <td>\\nБогиня Юнь Си и и повелитель духов Лу Янь бы...</td>\n      <td>{'Просмотр:': '42 мин', 'Сериал:': '36 серий',...</td>\n      <td>Русская озвучка, Русские субтитры</td>\n      <td>2022</td>\n      <td>Выходит</td>\n      <td>DubLik-TV</td>\n      <td>NaN</td>\n      <td>Драма, Мелодрама, Приключения, Фэнтези</td>\n      <td>36 серия</td>\n      <td>Китай</td>\n      <td>36 серий</td>\n      <td>20 серия - озвучка,36 серия - субтитры</td>\n      <td>42 мин</td>\n      <td>Жэнь Цзя Лунь,  Ли Цинь,  Ся Чжи Гуан</td>\n    </tr>\n    <tr>\n      <th>33385</th>\n      <td>https://doramy.club/33385-superzvezda-2550.html</td>\n      <td>Суперзвезда 2550 дорама (2022)</td>\n      <td>https://doramy.club/wp-content/uploads/2022/09...</td>\n      <td>\\nКогда на телевидении стартовал новый и ожида...</td>\n      <td>{'Просмотр:': '1 час 27 мин', 'Сериал:': '10 с...</td>\n      <td>Русские субтитры</td>\n      <td>2022</td>\n      <td>Выходит</td>\n      <td>NaN</td>\n      <td>NaN</td>\n      <td>Драма, Комедия, Мелодрама</td>\n      <td>NaN</td>\n      <td>Таиланд</td>\n      <td>10 серий</td>\n      <td>10 серия - субтитры</td>\n      <td>1 час 27 мин</td>\n      <td>Алек Тирадет Метаварают,  Анна Тонгпрасом,  Ке...</td>\n    </tr>\n  </tbody>\n</table>\n</div>"
     },
     "execution_count": 65,
     "metadata": {},
     "output_type": "execute_result"
    }
   ],
   "source": [
    "df_doramy.head()"
   ],
   "metadata": {
    "collapsed": false,
    "pycharm": {
     "name": "#%%\n"
    }
   }
  },
  {
   "cell_type": "code",
   "execution_count": 68,
   "outputs": [],
   "source": [
    "df_doramy.columns=['url','name','image', 'notes', 'params','trans','year','status','sound','age','genre','autosubs','country', 'series','added','duration','stars']"
   ],
   "metadata": {
    "collapsed": false,
    "pycharm": {
     "name": "#%%\n"
    }
   }
  },
  {
   "cell_type": "code",
   "execution_count": 69,
   "outputs": [
    {
     "data": {
      "text/plain": "                                                     url  \\\nid                                                         \n34127  https://doramy.club/34127-policejskij-uchastok...   \n11136  https://doramy.club/11136-pogrebyonnyj-gorod-s...   \n34047  https://doramy.club/34047-lyubov-zdes-zapreshh...   \n33308  https://doramy.club/33308-tysyacha-let-dlya-te...   \n33385    https://doramy.club/33385-superzvezda-2550.html   \n\n                                                    name  \\\nid                                                         \n34127  Полицейский участок рядом с пожарной частью до...   \n11136  Погребённый город: Сокрыть все огни дорама (2018)   \n34047               Любовь здесь запрещена дорама (2022)   \n33308                  Тысяча лет для тебя дорама (2022)   \n33385                     Суперзвезда 2550 дорама (2022)   \n\n                                                   image  \\\nid                                                         \n34127  https://doramy.club/wp-content/uploads/2022/11...   \n11136  https://doramy.club/wp-content/uploads/2019/03...   \n34047  https://doramy.club/wp-content/uploads/2022/11...   \n33308  https://doramy.club/wp-content/uploads/2022/09...   \n33385  https://doramy.club/wp-content/uploads/2022/09...   \n\n                                                   notes  \\\nid                                                         \n34127  \\nРядом с пожарной станцией расположен полицей...   \n11136  \\nГлавная героиня дорамы «Погребённый город: С...   \n34047  \\nДевушка по имени Ши Чэн, школьница увлеченна...   \n33308  \\nБогиня Юнь Си и и повелитель духов Лу Янь бы...   \n33385  \\nКогда на телевидении стартовал новый и ожида...   \n\n                                                  params  \\\nid                                                         \n34127  {'Просмотр:': '1 час 5 мин', 'Сериал:': '12 се...   \n11136  {'Просмотр:': '35 мин.', 'Сериал:': '36 серий'...   \n34047  {'Просмотр:': '10 мин', 'Сериал:': '22 серии',...   \n33308  {'Просмотр:': '42 мин', 'Сериал:': '36 серий',...   \n33385  {'Просмотр:': '1 час 27 мин', 'Сериал:': '10 с...   \n\n                                   trans  year   status      sound  age  \\\nid                                                                        \n34127  Русская озвучка, Русские субтитры  2022  Выходит    SoftBox  NaN   \n11136  Русская озвучка, Русские субтитры  2018  Выходит  DubLik-TV  NaN   \n34047                   Русские субтитры  2022  Выходит        NaN  NaN   \n33308  Русская озвучка, Русские субтитры  2022  Выходит  DubLik-TV  NaN   \n33385                   Русские субтитры  2022  Выходит        NaN  NaN   \n\n                                        genre  autosubs      country  \\\nid                                                                     \n34127                         Детектив, Драма       NaN  Южная Корея   \n11136          Драма, Исторический, Мелодрама       NaN        Китай   \n34047              Комедия, Мелодрама, Музыка       NaN        Китай   \n33308  Драма, Мелодрама, Приключения, Фэнтези  36 серия        Китай   \n33385               Драма, Комедия, Мелодрама       NaN      Таиланд   \n\n         series                                   added      duration  \\\nid                                                                      \n34127  12 серий    1 серия - озвучка,2 серия - субтитры   1 час 5 мин   \n11136  36 серий   9 серия - озвучка,36 серия - субтитры       35 мин.   \n34047  22 серии                     13 серия - субтитры        10 мин   \n33308  36 серий  20 серия - озвучка,36 серия - субтитры        42 мин   \n33385  10 серий                     10 серия - субтитры  1 час 27 мин   \n\n                                                   stars  \nid                                                        \n34127  Гон Сын Ён,  Ким Рэ Вон,  Сон Хо Джун,  Чжи У,...  \n11136                         Фэн Ли Цзюнь,  Хэ Лань Доу  \n34047                                                NaN  \n33308              Жэнь Цзя Лунь,  Ли Цинь,  Ся Чжи Гуан  \n33385  Алек Тирадет Метаварают,  Анна Тонгпрасом,  Ке...  ",
      "text/html": "<div>\n<style scoped>\n    .dataframe tbody tr th:only-of-type {\n        vertical-align: middle;\n    }\n\n    .dataframe tbody tr th {\n        vertical-align: top;\n    }\n\n    .dataframe thead th {\n        text-align: right;\n    }\n</style>\n<table border=\"1\" class=\"dataframe\">\n  <thead>\n    <tr style=\"text-align: right;\">\n      <th></th>\n      <th>url</th>\n      <th>name</th>\n      <th>image</th>\n      <th>notes</th>\n      <th>params</th>\n      <th>trans</th>\n      <th>year</th>\n      <th>status</th>\n      <th>sound</th>\n      <th>age</th>\n      <th>genre</th>\n      <th>autosubs</th>\n      <th>country</th>\n      <th>series</th>\n      <th>added</th>\n      <th>duration</th>\n      <th>stars</th>\n    </tr>\n    <tr>\n      <th>id</th>\n      <th></th>\n      <th></th>\n      <th></th>\n      <th></th>\n      <th></th>\n      <th></th>\n      <th></th>\n      <th></th>\n      <th></th>\n      <th></th>\n      <th></th>\n      <th></th>\n      <th></th>\n      <th></th>\n      <th></th>\n      <th></th>\n      <th></th>\n    </tr>\n  </thead>\n  <tbody>\n    <tr>\n      <th>34127</th>\n      <td>https://doramy.club/34127-policejskij-uchastok...</td>\n      <td>Полицейский участок рядом с пожарной частью до...</td>\n      <td>https://doramy.club/wp-content/uploads/2022/11...</td>\n      <td>\\nРядом с пожарной станцией расположен полицей...</td>\n      <td>{'Просмотр:': '1 час 5 мин', 'Сериал:': '12 се...</td>\n      <td>Русская озвучка, Русские субтитры</td>\n      <td>2022</td>\n      <td>Выходит</td>\n      <td>SoftBox</td>\n      <td>NaN</td>\n      <td>Детектив, Драма</td>\n      <td>NaN</td>\n      <td>Южная Корея</td>\n      <td>12 серий</td>\n      <td>1 серия - озвучка,2 серия - субтитры</td>\n      <td>1 час 5 мин</td>\n      <td>Гон Сын Ён,  Ким Рэ Вон,  Сон Хо Джун,  Чжи У,...</td>\n    </tr>\n    <tr>\n      <th>11136</th>\n      <td>https://doramy.club/11136-pogrebyonnyj-gorod-s...</td>\n      <td>Погребённый город: Сокрыть все огни дорама (2018)</td>\n      <td>https://doramy.club/wp-content/uploads/2019/03...</td>\n      <td>\\nГлавная героиня дорамы «Погребённый город: С...</td>\n      <td>{'Просмотр:': '35 мин.', 'Сериал:': '36 серий'...</td>\n      <td>Русская озвучка, Русские субтитры</td>\n      <td>2018</td>\n      <td>Выходит</td>\n      <td>DubLik-TV</td>\n      <td>NaN</td>\n      <td>Драма, Исторический, Мелодрама</td>\n      <td>NaN</td>\n      <td>Китай</td>\n      <td>36 серий</td>\n      <td>9 серия - озвучка,36 серия - субтитры</td>\n      <td>35 мин.</td>\n      <td>Фэн Ли Цзюнь,  Хэ Лань Доу</td>\n    </tr>\n    <tr>\n      <th>34047</th>\n      <td>https://doramy.club/34047-lyubov-zdes-zapreshh...</td>\n      <td>Любовь здесь запрещена дорама (2022)</td>\n      <td>https://doramy.club/wp-content/uploads/2022/11...</td>\n      <td>\\nДевушка по имени Ши Чэн, школьница увлеченна...</td>\n      <td>{'Просмотр:': '10 мин', 'Сериал:': '22 серии',...</td>\n      <td>Русские субтитры</td>\n      <td>2022</td>\n      <td>Выходит</td>\n      <td>NaN</td>\n      <td>NaN</td>\n      <td>Комедия, Мелодрама, Музыка</td>\n      <td>NaN</td>\n      <td>Китай</td>\n      <td>22 серии</td>\n      <td>13 серия - субтитры</td>\n      <td>10 мин</td>\n      <td>NaN</td>\n    </tr>\n    <tr>\n      <th>33308</th>\n      <td>https://doramy.club/33308-tysyacha-let-dlya-te...</td>\n      <td>Тысяча лет для тебя дорама (2022)</td>\n      <td>https://doramy.club/wp-content/uploads/2022/09...</td>\n      <td>\\nБогиня Юнь Си и и повелитель духов Лу Янь бы...</td>\n      <td>{'Просмотр:': '42 мин', 'Сериал:': '36 серий',...</td>\n      <td>Русская озвучка, Русские субтитры</td>\n      <td>2022</td>\n      <td>Выходит</td>\n      <td>DubLik-TV</td>\n      <td>NaN</td>\n      <td>Драма, Мелодрама, Приключения, Фэнтези</td>\n      <td>36 серия</td>\n      <td>Китай</td>\n      <td>36 серий</td>\n      <td>20 серия - озвучка,36 серия - субтитры</td>\n      <td>42 мин</td>\n      <td>Жэнь Цзя Лунь,  Ли Цинь,  Ся Чжи Гуан</td>\n    </tr>\n    <tr>\n      <th>33385</th>\n      <td>https://doramy.club/33385-superzvezda-2550.html</td>\n      <td>Суперзвезда 2550 дорама (2022)</td>\n      <td>https://doramy.club/wp-content/uploads/2022/09...</td>\n      <td>\\nКогда на телевидении стартовал новый и ожида...</td>\n      <td>{'Просмотр:': '1 час 27 мин', 'Сериал:': '10 с...</td>\n      <td>Русские субтитры</td>\n      <td>2022</td>\n      <td>Выходит</td>\n      <td>NaN</td>\n      <td>NaN</td>\n      <td>Драма, Комедия, Мелодрама</td>\n      <td>NaN</td>\n      <td>Таиланд</td>\n      <td>10 серий</td>\n      <td>10 серия - субтитры</td>\n      <td>1 час 27 мин</td>\n      <td>Алек Тирадет Метаварают,  Анна Тонгпрасом,  Ке...</td>\n    </tr>\n  </tbody>\n</table>\n</div>"
     },
     "execution_count": 69,
     "metadata": {},
     "output_type": "execute_result"
    }
   ],
   "source": [
    "df_doramy.head()"
   ],
   "metadata": {
    "collapsed": false,
    "pycharm": {
     "name": "#%%\n"
    }
   }
  },
  {
   "cell_type": "code",
   "execution_count": 70,
   "outputs": [],
   "source": [
    "df_doramy.to_pickle('doramy_params.pkl')"
   ],
   "metadata": {
    "collapsed": false,
    "pycharm": {
     "name": "#%%\n"
    }
   }
  }
 ],
 "metadata": {
  "kernelspec": {
   "display_name": "Python 3",
   "language": "python",
   "name": "python3"
  },
  "language_info": {
   "codemirror_mode": {
    "name": "ipython",
    "version": 2
   },
   "file_extension": ".py",
   "mimetype": "text/x-python",
   "name": "python",
   "nbconvert_exporter": "python",
   "pygments_lexer": "ipython2",
   "version": "2.7.6"
  }
 },
 "nbformat": 4,
 "nbformat_minor": 0
}