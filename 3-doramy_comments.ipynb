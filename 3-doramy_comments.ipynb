{
 "cells": [
  {
   "cell_type": "markdown",
   "source": [
    "# Распаковка комментариев"
   ],
   "metadata": {
    "collapsed": false
   }
  },
  {
   "cell_type": "code",
   "execution_count": 1,
   "metadata": {
    "collapsed": true
   },
   "outputs": [],
   "source": [
    "import pandas as pd"
   ]
  },
  {
   "cell_type": "code",
   "execution_count": 46,
   "outputs": [
    {
     "data": {
      "text/plain": "                                                comments\nid                                                      \n34127  [{'author': 'Leodo', 'time': '16 ноября 2022',...\n11136  [{'author': 'mysize', 'time': '26 октября 2022...\n34047  [{'author': 'Niky', 'time': '9 ноября 2022', '...\n33308  [{'author': 'Yasmin0906', 'time': '16 ноября 2...\n33385  [{'author': 'dawerivs', 'time': '20 сентября 2...",
      "text/html": "<div>\n<style scoped>\n    .dataframe tbody tr th:only-of-type {\n        vertical-align: middle;\n    }\n\n    .dataframe tbody tr th {\n        vertical-align: top;\n    }\n\n    .dataframe thead th {\n        text-align: right;\n    }\n</style>\n<table border=\"1\" class=\"dataframe\">\n  <thead>\n    <tr style=\"text-align: right;\">\n      <th></th>\n      <th>comments</th>\n    </tr>\n    <tr>\n      <th>id</th>\n      <th></th>\n    </tr>\n  </thead>\n  <tbody>\n    <tr>\n      <th>34127</th>\n      <td>[{'author': 'Leodo', 'time': '16 ноября 2022',...</td>\n    </tr>\n    <tr>\n      <th>11136</th>\n      <td>[{'author': 'mysize', 'time': '26 октября 2022...</td>\n    </tr>\n    <tr>\n      <th>34047</th>\n      <td>[{'author': 'Niky', 'time': '9 ноября 2022', '...</td>\n    </tr>\n    <tr>\n      <th>33308</th>\n      <td>[{'author': 'Yasmin0906', 'time': '16 ноября 2...</td>\n    </tr>\n    <tr>\n      <th>33385</th>\n      <td>[{'author': 'dawerivs', 'time': '20 сентября 2...</td>\n    </tr>\n  </tbody>\n</table>\n</div>"
     },
     "execution_count": 46,
     "metadata": {},
     "output_type": "execute_result"
    }
   ],
   "source": [
    "df = pd.read_pickle('doramy_comments.pkl')\n",
    "df = pd.DataFrame(df)\n",
    "df.head()"
   ],
   "metadata": {
    "collapsed": false,
    "pycharm": {
     "name": "#%%\n"
    }
   }
  },
  {
   "cell_type": "code",
   "execution_count": 24,
   "outputs": [],
   "source": [
    "df.reset_index(inplace=True)"
   ],
   "metadata": {
    "collapsed": false,
    "pycharm": {
     "name": "#%%\n"
    }
   }
  },
  {
   "cell_type": "code",
   "execution_count": 34,
   "outputs": [],
   "source": [
    "df_list = df.values.tolist()"
   ],
   "metadata": {
    "collapsed": false,
    "pycharm": {
     "name": "#%%\n"
    }
   }
  },
  {
   "cell_type": "code",
   "execution_count": 39,
   "outputs": [
    {
     "data": {
      "text/plain": "[{'author': 'Leodo',\n  'time': '16 ноября 2022',\n  'comment': '\\nОчень интригующее начало, а судя по персонажу отца, дальше должно быть ещё интереснее.Спасибо за озвучку!!!\\n'},\n {'author': 'Nilufar',\n  'time': '16 ноября 2022',\n  'comment': '\\nОчень интересная дорома\\n'},\n {'author': 'Dariia13',\n  'time': '16 ноября 2022',\n  'comment': '\\nЯ все жду «Децибел» с Ким Ре Воном и Ли Чон Соком, и обновляю его имя на сайте, а тут такая неожиданность, ещё одна дорама с ним) Спасибо!\\n'},\n {'author': 'Маркус',\n  'time': '16 ноября 2022',\n  'comment': '\\nчто то хромать стали выходы серий дорам с озвучкой — целых 4 дня уже едут к нам из кореи наверное в китайских контейнерах по морскому пути\\n'},\n {'author': 'Лиза Мин',\n  'time': '16 ноября 2022',\n  'comment': '\\nНачало очень интригует! Ещо одна дорама в копилку новеньких ангоингов.\\n'},\n {'author': 'Iren',\n  'time': '15 ноября 2022',\n  'comment': '\\nИнтересненько 👍\\n'},\n {'author': '誰か',\n  'time': '15 ноября 2022',\n  'comment': '\\nОчень интересная дорама жду продолжения.\\nСпасибо за перевод и озвучку очень вам благодарна.\\n'},\n {'author': 'АТПМ',\n  'time': '15 ноября 2022',\n  'comment': '\\nВсё очень сочно и классно звучит!!\\nНапоминает это мне один мой любимый мультсериал.))\\n'},\n {'author': 'Элла',\n  'time': '15 ноября 2022',\n  'comment': '\\nЭто лучшее что я смотрела 🔥\\n'},\n {'author': 'Алия',\n  'time': '15 ноября 2022',\n  'comment': '\\nДовольно интересный сюжет. Как раз по эти жанрам искала дораму . Уже первая серия  так заинтересовало что бросить никак нельзя. Советую тем кто любит детектив. ❤️\\n'},\n {'author': 'Frau_aka_Zehel',\n  'time': '14 ноября 2022',\n  'comment': '\\nЧто ж, выглядит многообещающе))\\n'},\n {'author': 'veracol',\n  'time': '14 ноября 2022',\n  'comment': '\\nнеплохо, довольно неплохо\\n'},\n {'author': 'Abdunabiyevas',\n  'time': '14 ноября 2022',\n  'comment': '\\nДорама очень интересная и отличная. Эта дорама начала интересовать меня с первой части и заставила ждать вторую часть. Пусть поскорее выйдут следующие части. Всем рекомендую эту дораму❤️🔥\\n'},\n {'author': 'Айгерим',\n  'time': '14 ноября 2022',\n  'comment': '\\nИнтересный дорама про полицию\\n'},\n {'author': 'Венера',\n  'time': '14 ноября 2022',\n  'comment': '\\nОчень крутая дорама всем советую\\n'},\n {'author': 'Nur1ym',\n  'time': '14 ноября 2022',\n  'comment': '\\nПока что смотрю\\n'},\n {'author': 'Linok47',\n  'time': '14 ноября 2022',\n  'comment': '\\nДорама бомба,честно говоря!!!!!!!!!!!\\n'},\n {'author': 'Azalia',\n  'time': '14 ноября 2022',\n  'comment': '\\nОчень понравилось❤️\\n'}]"
     },
     "execution_count": 39,
     "metadata": {},
     "output_type": "execute_result"
    }
   ],
   "source": [
    "df_list[0][1]"
   ],
   "metadata": {
    "collapsed": false,
    "pycharm": {
     "name": "#%%\n"
    }
   }
  },
  {
   "cell_type": "code",
   "execution_count": 43,
   "outputs": [],
   "source": [
    "df1 = pd.DataFrame(columns=['id', 'author', 'time', 'comment'])\n",
    "for row in df_list:\n",
    "    dfc = pd.DataFrame(row[1])\n",
    "    dfc['id'] = row[0]\n",
    "    df1=pd.concat([df1,dfc])"
   ],
   "metadata": {
    "collapsed": false,
    "pycharm": {
     "name": "#%%\n"
    }
   }
  },
  {
   "cell_type": "code",
   "execution_count": 44,
   "outputs": [
    {
     "name": "stdout",
     "output_type": "stream",
     "text": [
      "<class 'pandas.core.frame.DataFrame'>\n",
      "Int64Index: 134452 entries, 0 to 39\n",
      "Data columns (total 4 columns):\n",
      " #   Column   Non-Null Count   Dtype \n",
      "---  ------   --------------   ----- \n",
      " 0   id       134452 non-null  object\n",
      " 1   author   134452 non-null  object\n",
      " 2   time     134452 non-null  object\n",
      " 3   comment  134452 non-null  object\n",
      "dtypes: object(4)\n",
      "memory usage: 5.1+ MB\n"
     ]
    }
   ],
   "source": [
    "df1.info()"
   ],
   "metadata": {
    "collapsed": false,
    "pycharm": {
     "name": "#%%\n"
    }
   }
  },
  {
   "cell_type": "code",
   "execution_count": 45,
   "outputs": [],
   "source": [
    "df1.to_pickle('doramy_comments_plain.pkl')"
   ],
   "metadata": {
    "collapsed": false,
    "pycharm": {
     "name": "#%%\n"
    }
   }
  }
 ],
 "metadata": {
  "kernelspec": {
   "display_name": "Python 3",
   "language": "python",
   "name": "python3"
  },
  "language_info": {
   "codemirror_mode": {
    "name": "ipython",
    "version": 2
   },
   "file_extension": ".py",
   "mimetype": "text/x-python",
   "name": "python",
   "nbconvert_exporter": "python",
   "pygments_lexer": "ipython2",
   "version": "2.7.6"
  }
 },
 "nbformat": 4,
 "nbformat_minor": 0
}